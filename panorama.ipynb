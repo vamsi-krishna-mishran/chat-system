{
  "nbformat": 4,
  "nbformat_minor": 0,
  "metadata": {
    "colab": {
      "provenance": [],
      "gpuType": "T4",
      "authorship_tag": "ABX9TyMbzpH2UA8EUHT9x7zoPseT",
      "include_colab_link": true
    },
    "kernelspec": {
      "name": "python3",
      "display_name": "Python 3"
    },
    "language_info": {
      "name": "python"
    },
    "accelerator": "GPU"
  },
  "cells": [
    {
      "cell_type": "markdown",
      "metadata": {
        "id": "view-in-github",
        "colab_type": "text"
      },
      "source": [
        "<a href=\"https://colab.research.google.com/github/vamsi-krishna-mishran/chat-system/blob/main/panorama.ipynb\" target=\"_parent\"><img src=\"https://colab.research.google.com/assets/colab-badge.svg\" alt=\"Open In Colab\"/></a>"
      ]
    },
    {
      "cell_type": "code",
      "execution_count": 1,
      "metadata": {
        "colab": {
          "base_uri": "https://localhost:8080/"
        },
        "id": "p09_Zj2PjkJ5",
        "outputId": "6f31f1f3-9647-4a47-bb9d-848be424d29e"
      },
      "outputs": [
        {
          "output_type": "stream",
          "name": "stdout",
          "text": [
            "Cloning into 'panoramic-image-stitching'...\n",
            "remote: Enumerating objects: 204, done.\u001b[K\n",
            "remote: Counting objects: 100% (12/12), done.\u001b[K\n",
            "remote: Compressing objects: 100% (12/12), done.\u001b[K\n",
            "remote: Total 204 (delta 0), reused 10 (delta 0), pack-reused 192\u001b[K\n",
            "Receiving objects: 100% (204/204), 12.44 MiB | 25.32 MiB/s, done.\n",
            "Resolving deltas: 100% (68/68), done.\n"
          ]
        }
      ],
      "source": [
        "!git clone https://github.com/Avinash793/panoramic-image-stitching.git"
      ]
    },
    {
      "cell_type": "code",
      "source": [
        "!pip list\n"
      ],
      "metadata": {
        "id": "K5Zer6C0jqDi"
      },
      "execution_count": null,
      "outputs": []
    },
    {
      "cell_type": "code",
      "source": [
        "!pip show imutils"
      ],
      "metadata": {
        "colab": {
          "base_uri": "https://localhost:8080/"
        },
        "id": "qV8gqp9Gj0bt",
        "outputId": "5945613c-8730-42dc-d090-f403a3cd3074"
      },
      "execution_count": 18,
      "outputs": [
        {
          "output_type": "stream",
          "name": "stdout",
          "text": [
            "Name: imutils\n",
            "Version: 0.5.4\n",
            "Summary: A series of convenience functions to make basic image processing functions such as translation, rotation, resizing, skeletonization, displaying Matplotlib images, sorting contours, detecting edges, and much more easier with OpenCV and both Python 2.7 and Python 3.\n",
            "Home-page: https://github.com/jrosebr1/imutils\n",
            "Author: Adrian Rosebrock\n",
            "Author-email: adrian@pyimagesearch.com\n",
            "License: \n",
            "Location: /usr/local/lib/python3.10/dist-packages\n",
            "Requires: \n",
            "Required-by: \n"
          ]
        }
      ]
    },
    {
      "cell_type": "code",
      "source": [
        "%cd panoramic-image-stitching/"
      ],
      "metadata": {
        "colab": {
          "base_uri": "https://localhost:8080/"
        },
        "id": "7QNnGraukO2m",
        "outputId": "56ae5c14-6298-4ae9-de9b-e784d8976592"
      },
      "execution_count": 20,
      "outputs": [
        {
          "output_type": "stream",
          "name": "stdout",
          "text": [
            "/content/panoramic-image-stitching\n"
          ]
        }
      ]
    },
    {
      "cell_type": "code",
      "source": [
        "!python3 stitch.py"
      ],
      "metadata": {
        "colab": {
          "base_uri": "https://localhost:8080/"
        },
        "id": "EsBNjKnIlloT",
        "outputId": "fb108ae6-62df-4fef-d5d7-cae34fa3add9"
      },
      "execution_count": 27,
      "outputs": [
        {
          "output_type": "stream",
          "name": "stdout",
          "text": [
            "Enter the image names with extension in order of left to right in the way you want to concatenate: \n",
            "total processing time 417.0949459075928ms\n"
          ]
        }
      ]
    },
    {
      "cell_type": "code",
      "source": [],
      "metadata": {
        "id": "xH4ZrLC6lolW"
      },
      "execution_count": null,
      "outputs": []
    }
  ]
}